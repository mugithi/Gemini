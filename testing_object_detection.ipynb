{
 "cells": [
  {
   "cell_type": "code",
   "execution_count": 1,
   "metadata": {
    "id": "ijGzTHJJUCPY"
   },
   "outputs": [],
   "source": [
    "# Copyright 2024 Google LLC\n",
    "#\n",
    "# Licensed under the Apache License, Version 2.0 (the \"License\");\n",
    "# you may not use this file except in compliance with the License.\n",
    "# You may obtain a copy of the License at\n",
    "#\n",
    "#     https://www.apache.org/licenses/LICENSE-2.0\n",
    "#\n",
    "# Unless required by applicable law or agreed to in writing, software\n",
    "# distributed under the License is distributed on an \"AS IS\" BASIS,\n",
    "# WITHOUT WARRANTIES OR CONDITIONS OF ANY KIND, either express or implied.\n",
    "# See the License for the specific language governing permissions and\n",
    "# limitations under the License."
   ]
  },
  {
   "cell_type": "markdown",
   "metadata": {
    "id": "VEqbX8OhE8y9"
   },
   "source": [
    "# Getting Started with the Gemini Pro Vision Model\n",
    "\n",
    "<table align=\"left\">\n",
    "  <td style=\"text-align: center\">\n",
    "    <a href=\"https://colab.research.google.com/github/GoogleCloudPlatform/generative-ai/blob/main/gemini/getting-started/intro_gemini_pro_vision_python.ipynb\">\n",
    "      <img src=\"https://cloud.google.com/ml-engine/images/colab-logo-32px.png\" alt=\"Google Colaboratory logo\"><br> Run in Colab\n",
    "    </a>\n",
    "  </td>\n",
    "  <td style=\"text-align: center\">\n",
    "    <a href=\"https://console.cloud.google.com/vertex-ai/colab/import/https:%2F%2Fraw.githubusercontent.com%2FGoogleCloudPlatform%2Fgenerative-ai%2Fmain%2Fgemini%2Fgetting-started%2Fintro_gemini_pro_vision_python.ipynb\">\n",
    "      <img width=\"32px\" src=\"https://lh3.googleusercontent.com/JmcxdQi-qOpctIvWKgPtrzZdJJK-J3sWE1RsfjZNwshCFgE_9fULcNpuXYTilIR2hjwN\" alt=\"Google Cloud Colab Enterprise logo\"><br> Run in Colab Enterprise\n",
    "    </a>\n",
    "  </td>       \n",
    "  <td style=\"text-align: center\">\n",
    "    <a href=\"https://github.com/GoogleCloudPlatform/generative-ai/blob/main/gemini/getting-started/intro_gemini_pro_vision_python.ipynb\">\n",
    "      <img src=\"https://cloud.google.com/ml-engine/images/github-logo-32px.png\" alt=\"GitHub logo\"><br> View on GitHub\n",
    "    </a>\n",
    "  </td>\n",
    "  <td style=\"text-align: center\">\n",
    "    <a href=\"https://console.cloud.google.com/vertex-ai/workbench/deploy-notebook?download_url=https://raw.githubusercontent.com/GoogleCloudPlatform/generative-ai/main/gemini/getting-started/intro_gemini_pro_vision_python.ipynb\">\n",
    "      <img src=\"https://lh3.googleusercontent.com/UiNooY4LUgW_oTvpsNhPpQzsstV5W8F7rYgxgGBD85cWJoLmrOzhVs_ksK_vgx40SHs7jCqkTkCk=e14-rj-sc0xffffff-h130-w32\" alt=\"Vertex AI logo\"><br> Open in Vertex AI Workbench\n",
    "    </a>\n",
    "  </td>\n",
    "</table>\n"
   ]
  },
  {
   "cell_type": "markdown",
   "metadata": {},
   "source": [
    "| | |\n",
    "|-|-|\n",
    "|Author(s) | [Eric Dong](https://github.com/gericdong), [Polong Lin](https://github.com/polong-lin), [Wanheng Li](https://github.com/wanhengli) |"
   ]
  },
  {
   "cell_type": "markdown",
   "metadata": {
    "id": "DrkcqHrrwMAo"
   },
   "source": [
    "### Objectives\n",
    "\n",
    "Test Object Detection on Gemini Pro 1.5, Vision 1.0\n"
   ]
  },
  {
   "cell_type": "markdown",
   "metadata": {
    "id": "C9nEPojogw-g"
   },
   "source": [
    "### Costs\n",
    "\n",
    "This tutorial uses billable components of Google Cloud:\n",
    "\n",
    "- Vertex AI\n",
    "\n",
    "Learn about [Vertex AI pricing](https://cloud.google.com/vertex-ai/pricing) and use the [Pricing Calculator](https://cloud.google.com/products/calculator/) to generate a cost estimate based on your projected usage.\n"
   ]
  },
  {
   "cell_type": "markdown",
   "metadata": {
    "id": "r11Gu7qNgx1p"
   },
   "source": [
    "## Getting Started\n"
   ]
  },
  {
   "cell_type": "markdown",
   "metadata": {
    "id": "No17Cw5hgx12"
   },
   "source": [
    "### Install Vertex AI SDK for Python\n"
   ]
  },
  {
   "cell_type": "code",
   "execution_count": 2,
   "metadata": {
    "id": "tFy3H3aPgx12",
    "tags": []
   },
   "outputs": [],
   "source": [
    "# ! pip3 install --upgrade --user google-cloud-aiplatform"
   ]
  },
  {
   "cell_type": "markdown",
   "metadata": {
    "id": "R5Xep4W9lq-Z"
   },
   "source": [
    "### Restart current runtime\n",
    "\n",
    "To use the newly installed packages in this Jupyter runtime, you must restart the runtime. You can do this by running the cell below, which will restart the current kernel."
   ]
  },
  {
   "cell_type": "code",
   "execution_count": 83,
   "metadata": {
    "colab": {
     "base_uri": "https://localhost:8080/"
    },
    "id": "XRvKdaPDTznN",
    "outputId": "154a71b5-f302-4f53-ed2f-b3e5fef9195b",
    "tags": []
   },
   "outputs": [
    {
     "data": {
      "text/plain": [
       "{'status': 'ok', 'restart': True}"
      ]
     },
     "execution_count": 83,
     "metadata": {},
     "output_type": "execute_result"
    }
   ],
   "source": [
    "# Restart kernel after installs so that your environment can access the new packages\n",
    "import IPython\n",
    "\n",
    "app = IPython.Application.instance()\n",
    "app.kernel.do_shutdown(True)"
   ]
  },
  {
   "cell_type": "markdown",
   "metadata": {
    "id": "SbmM4z7FOBpM"
   },
   "source": [
    "<div class=\"alert alert-block alert-warning\">\n",
    "<b>⚠️ The kernel is going to restart. Please wait until it is finished before continuing to the next step. ⚠️</b>\n",
    "</div>\n",
    "\n"
   ]
  },
  {
   "cell_type": "markdown",
   "metadata": {
    "id": "dmWOrTJ3gx13"
   },
   "source": [
    "### Authenticate your notebook environment (Colab only)\n",
    "\n",
    "If you are running this notebook on Google Colab, run the following cell to authenticate your environment. This step is not required if you are using [Vertex AI Workbench](https://cloud.google.com/vertex-ai-workbench).\n"
   ]
  },
  {
   "cell_type": "code",
   "execution_count": 2,
   "metadata": {
    "id": "NyKGtVQjgx13",
    "tags": []
   },
   "outputs": [],
   "source": [
    "import sys\n",
    "\n",
    "# Additional authentication is required for Google Colab\n",
    "if \"google.colab\" in sys.modules:\n",
    "    # Authenticate user to Google Cloud\n",
    "    from google.colab import auth\n",
    "\n",
    "    auth.authenticate_user()"
   ]
  },
  {
   "cell_type": "markdown",
   "metadata": {
    "id": "DF4l8DTdWgPY"
   },
   "source": [
    "### Set Google Cloud project information and initialize Vertex AI SDK\n",
    "\n",
    "To get started using Vertex AI, you must have an existing Google Cloud project and [enable the Vertex AI API](https://console.cloud.google.com/flows/enableapi?apiid=aiplatform.googleapis.com).\n",
    "\n",
    "Learn more about [setting up a project and a development environment](https://cloud.google.com/vertex-ai/docs/start/cloud-environment)."
   ]
  },
  {
   "cell_type": "code",
   "execution_count": 3,
   "metadata": {
    "id": "Nqwi-5ufWp_B",
    "tags": []
   },
   "outputs": [],
   "source": [
    "# Define project information\n",
    "PROJECT_ID = \"[your-project-id]\"  # @param {type:\"string\"}\n",
    "PROJECT_ID = \"tpu-simulator-project\"  # @param {type:\"string\"}\n",
    "\n",
    "LOCATION = \"us-central1\"  # @param {type:\"string\"}\n",
    "\n",
    "# Initialize Vertex AI\n",
    "import vertexai\n",
    "\n",
    "vertexai.init(project=PROJECT_ID, location=LOCATION)"
   ]
  },
  {
   "cell_type": "markdown",
   "metadata": {
    "id": "jXHfaVS66_01"
   },
   "source": [
    "### Import libraries\n"
   ]
  },
  {
   "cell_type": "code",
   "execution_count": 4,
   "metadata": {
    "id": "lslYAvw37JGQ",
    "tags": []
   },
   "outputs": [],
   "source": [
    "from vertexai.generative_models import (\n",
    "    Content,\n",
    "    FunctionDeclaration,\n",
    "    GenerativeModel,\n",
    "    Part,\n",
    "    Tool,\n",
    "    Image\n",
    ")"
   ]
  },
  {
   "cell_type": "markdown",
   "metadata": {
    "id": "FTMywdzUORIA"
   },
   "source": [
    "### Load the Gemini 1.0 Pro Vision model\n"
   ]
  },
  {
   "cell_type": "code",
   "execution_count": 10,
   "metadata": {
    "id": "lRyTw2iPhEXG",
    "tags": []
   },
   "outputs": [],
   "source": [
    "multimodal_model = GenerativeModel(\"gemini-1.5-pro-preview-0409\")\n",
    "#multimodal_model = GenerativeModel(\"gemini-1.0-pro-vision\")\n"
   ]
  },
  {
   "cell_type": "markdown",
   "metadata": {
    "id": "lwvfMDEDVyKI"
   },
   "source": [
    "### Define helper functions\n",
    "\n",
    "Define helper functions to load and display images.\n"
   ]
  },
  {
   "cell_type": "code",
   "execution_count": 11,
   "metadata": {
    "id": "NQS13DI6Pjp6",
    "tags": []
   },
   "outputs": [],
   "source": [
    "import http.client\n",
    "import typing\n",
    "import urllib.request\n",
    "\n",
    "import IPython.display\n",
    "from PIL import Image as PIL_Image\n",
    "from PIL import ImageOps as PIL_ImageOps\n",
    "\n",
    "\n",
    "def display_images(\n",
    "    images: typing.Iterable[Image],\n",
    "    max_width: int = 600,\n",
    "    max_height: int = 350,\n",
    ") -> None:\n",
    "    for image in images:\n",
    "        pil_image = typing.cast(PIL_Image.Image, image._pil_image)\n",
    "        if pil_image.mode != \"RGB\":\n",
    "            # RGB is supported by all Jupyter environments (e.g. RGBA is not yet)\n",
    "            pil_image = pil_image.convert(\"RGB\")\n",
    "        image_width, image_height = pil_image.size\n",
    "        if max_width < image_width or max_height < image_height:\n",
    "            # Resize to display a smaller notebook image\n",
    "            pil_image = PIL_ImageOps.contain(pil_image, (max_width, max_height))\n",
    "        IPython.display.display(pil_image)\n",
    "\n",
    "\n",
    "def get_image_bytes_from_url(image_url: str) -> bytes:\n",
    "    with urllib.request.urlopen(image_url) as response:\n",
    "        response = typing.cast(http.client.HTTPResponse, response)\n",
    "        image_bytes = response.read()\n",
    "    return image_bytes\n",
    "\n",
    "\n",
    "def load_image_from_url(image_url: str) -> Image:\n",
    "    image_bytes = get_image_bytes_from_url(image_url)\n",
    "    return Image.from_bytes(image_bytes)\n",
    "\n",
    "\n",
    "def get_url_from_gcs(gcs_uri: str) -> str:\n",
    "    # converts gcs uri to url for image display.\n",
    "    url = \"https://storage.googleapis.com/\" + gcs_uri.replace(\"gs://\", \"\").replace(\n",
    "        \" \", \"%20\"\n",
    "    )\n",
    "    return url\n",
    "\n",
    "\n",
    "def print_multimodal_prompt(contents: list):\n",
    "    \"\"\"\n",
    "    Given contents that would be sent to Gemini,\n",
    "    output the full multimodal prompt for ease of readability.\n",
    "    \"\"\"\n",
    "    for content in contents:\n",
    "        if isinstance(content, Image):\n",
    "            display_images([content])\n",
    "        elif isinstance(content, Part):\n",
    "            url = get_url_from_gcs(content.file_data.file_uri)\n",
    "            IPython.display.display(load_image_from_url(url))\n",
    "        else:\n",
    "            print(content)"
   ]
  },
  {
   "cell_type": "markdown",
   "metadata": {
    "id": "Wy75sLb-yjNn"
   },
   "source": [
    "### Generate text from local image and text\n",
    "\n",
    "Use the `Image.load_from_file` method to load a local file as the image to generate text for.\n"
   ]
  },
  {
   "cell_type": "code",
   "execution_count": 12,
   "metadata": {
    "tags": []
   },
   "outputs": [],
   "source": [
    "image_path = \"./image/Step28_Screenshot_1713870176.jpeg\"\n",
    "image = Image.load_from_file(image_path)"
   ]
  },
  {
   "cell_type": "markdown",
   "metadata": {},
   "source": [
    "## Define tool to create cordinate structure"
   ]
  },
  {
   "cell_type": "code",
   "execution_count": 13,
   "metadata": {
    "tags": []
   },
   "outputs": [],
   "source": [
    "# Updated Tool Structure\n",
    "\n",
    "draw_coordinates_func = FunctionDeclaration(\n",
    "    name=\"draw_coordinates_on_image\",\n",
    "    description=\"Draws coordinates from Gemini output onto an image\",\n",
    "    parameters={\n",
    "        \"type\": \"object\",\n",
    "        \"properties\": {\n",
    "            \"fields\": {  # Group fields together\n",
    "                \"type\": \"array\",\n",
    "                \"items\": {\n",
    "                    \"type\": \"object\",\n",
    "                    \"properties\": {\n",
    "                        \"type\": {\"type\": \"string\", \"description\": \"Type of the field (email, password, clickable_01, clickable_02, clickable_n )\"},\n",
    "                        \"coordinates\": {\n",
    "                            \"type\": \"object\",\n",
    "                            \"properties\": {\n",
    "                                \"x0\": {\"type\": \"integer\", \"description\": \"X-coordinate of top-left corner.\"},\n",
    "                                \"y0\": {\"type\": \"integer\", \"description\": \"Y-coordinate of top-left corner.\"},\n",
    "                                \"x1\": {\"type\": \"integer\", \"description\": \"X-coordinate of bottom-right corner.\"},\n",
    "                                \"y1\": {\"type\": \"integer\", \"description\": \"Y-coordinate of bottom-right corner.\"},\n",
    "                            },\n",
    "                            \"required\": [\"x0\", \"y0\", \"x1\", \"y1\"]\n",
    "                        }\n",
    "                    },\n",
    "                    \"required\": [\"type\", \"coordinates\"]\n",
    "                }\n",
    "            }\n",
    "        }\n",
    "    }\n",
    ")\n",
    "\n",
    "\n",
    "draw_coordinates_tool = Tool(\n",
    "    function_declarations=[draw_coordinates_func],\n",
    ")"
   ]
  },
  {
   "cell_type": "code",
   "execution_count": 14,
   "metadata": {
    "id": "KzqjpEiryjNo",
    "outputId": "77e642f7-f61e-4039-9bb3-47e9901a5d89",
    "tags": []
   },
   "outputs": [
    {
     "name": "stdout",
     "output_type": "stream",
     "text": [
      "-------Prompt--------\n"
     ]
    },
    {
     "data": {
      "image/jpeg": "[encoded data removed]",
      "image/png": "[encoded data removed]",
      "text/plain": [
       "<PIL.Image.Image image mode=RGB size=161x350>"
      ]
     },
     "metadata": {},
     "output_type": "display_data"
    },
    {
     "name": "stdout",
     "output_type": "stream",
     "text": [
      "\n",
      "You are present with a screenshot of an iOS app. I want you to parse the screenshot to check if it's a log-in page.\n",
      "1. Run OCR to parse the image\n",
      "2. Parse the image and establish an axis based on pixel information. Please answer below questions using this axis where top-left of this image is (0,0).\n",
      "3. Check the features of this image to decide if it's a log-in page.\n",
      "4. If it's a login page, perform steps 5 to 7; if not, jump to step 8\n",
      "5. Check if there is a place where users are supposed to put username.\n",
      "6. Check if there is a place where users are supposed to put password.\n",
      "7. Output  Location should be in this format: {x0, y0, x1, y1} as described in draw_coordinates_tool  representing the coordinates of the 4 corners of the rectangle. If there is no username and/or password field, don't include the respective location field.\n",
      "8. Randomly pick an element that is likely to be tappable, and output the location of that element.\n",
      "\n",
      "\n",
      "\n"
     ]
    },
    {
     "data": {
      "text/plain": [
       "name: \"draw_coordinates_on_image\"\n",
       "args {\n",
       "  fields {\n",
       "    key: \"fields\"\n",
       "    value {\n",
       "      list_value {\n",
       "        values {\n",
       "          struct_value {\n",
       "            fields {\n",
       "              key: \"coordinates\"\n",
       "              value {\n",
       "                struct_value {\n",
       "                  fields {\n",
       "                    key: \"x0\"\n",
       "                    value {\n",
       "                      number_value: 138.0\n",
       "                    }\n",
       "                  }\n",
       "                  fields {\n",
       "                    key: \"x1\"\n",
       "                    value {\n",
       "                      number_value: 893.0\n",
       "                    }\n",
       "                  }\n",
       "                  fields {\n",
       "                    key: \"y0\"\n",
       "                    value {\n",
       "                      number_value: 385.0\n",
       "                    }\n",
       "                  }\n",
       "                  fields {\n",
       "                    key: \"y1\"\n",
       "                    value {\n",
       "                      number_value: 443.0\n",
       "                    }\n",
       "                  }\n",
       "                }\n",
       "              }\n",
       "            }\n",
       "            fields {\n",
       "              key: \"type\"\n",
       "              value {\n",
       "                string_value: \"email\"\n",
       "              }\n",
       "            }\n",
       "          }\n",
       "        }\n",
       "        values {\n",
       "          struct_value {\n",
       "            fields {\n",
       "              key: \"coordinates\"\n",
       "              value {\n",
       "                struct_value {\n",
       "                  fields {\n",
       "                    key: \"x0\"\n",
       "                    value {\n",
       "                      number_value: 137.0\n",
       "                    }\n",
       "                  }\n",
       "                  fields {\n",
       "                    key: \"x1\"\n",
       "                    value {\n",
       "                      number_value: 892.0\n",
       "                    }\n",
       "                  }\n",
       "                  fields {\n",
       "                    key: \"y0\"\n",
       "                    value {\n",
       "                      number_value: 460.0\n",
       "                    }\n",
       "                  }\n",
       "                  fields {\n",
       "                    key: \"y1\"\n",
       "                    value {\n",
       "                      number_value: 518.0\n",
       "                    }\n",
       "                  }\n",
       "                }\n",
       "              }\n",
       "            }\n",
       "            fields {\n",
       "              key: \"type\"\n",
       "              value {\n",
       "                string_value: \"password\"\n",
       "              }\n",
       "            }\n",
       "          }\n",
       "        }\n",
       "      }\n",
       "    }\n",
       "  }\n",
       "}"
      ]
     },
     "execution_count": 14,
     "metadata": {},
     "output_type": "execute_result"
    }
   ],
   "source": [
    "\n",
    "# Prepare contents\n",
    "prompt = \"\"\"\n",
    "You are present with a screenshot of an iOS app. I want you to parse the screenshot to check if it's a log-in page.\n",
    "1. Run OCR to parse the image\n",
    "2. Parse the image and establish an axis based on pixel information. Please answer below questions using this axis where top-left of this image is (0,0).\n",
    "3. Check the features of this image to decide if it's a log-in page.\n",
    "4. If it's a login page, perform steps 5 to 7; if not, jump to step 8\n",
    "5. Check if there is a place where users are supposed to put username.\n",
    "6. Check if there is a place where users are supposed to put password.\n",
    "7. Output  Location should be in this format: {x0, y0, x1, y1} as described in draw_coordinates_tool  representing the coordinates of the 4 corners of the rectangle. If there is no username and/or password field, don't include the respective location field.\n",
    "8. Randomly pick an element that is likely to be tappable, and output the location of that element.\n",
    "\n",
    "\n",
    "\"\"\"\n",
    "contents = [image, prompt]\n",
    "\n",
    "\n",
    "gemini_response = multimodal_model.generate_content(\n",
    "    contents,\n",
    "    tools=[draw_coordinates_tool],\n",
    ")\n",
    "\n",
    "# gemini_response = multimodal_model.generate_content(\n",
    "#     contents\n",
    "# )\n",
    "\n",
    "\n",
    "\n",
    "print(\"-------Prompt--------\")\n",
    "print_multimodal_prompt(contents)\n",
    "\n",
    "gemini_response.candidates[0].content.parts[0].function_call\n",
    "# response.candidates[0].content.parts[0].text"
   ]
  },
  {
   "cell_type": "markdown",
   "metadata": {},
   "source": [
    "### Unpack the json"
   ]
  },
  {
   "cell_type": "code",
   "execution_count": 18,
   "metadata": {
    "tags": []
   },
   "outputs": [],
   "source": [
    "import json\n",
    "def unpack_response(response):\n",
    "    output = {}\n",
    "    function_call = {}\n",
    "    for key, value in response.candidates[0].content.parts[0].to_dict().items():\n",
    "        function_call[key] = value\n",
    "    output[\"tool_calls\"] = [function_call[\"function_call\"]]\n",
    "    output[\"tool_calls\"][0][\"arguments\"] = output[\"tool_calls\"][0].pop(\"args\")\n",
    "    return json.dumps(output)\n",
    "\n",
    "response = unpack_response(gemini_response)"
   ]
  },
  {
   "cell_type": "code",
   "execution_count": 37,
   "metadata": {
    "tags": []
   },
   "outputs": [
    {
     "data": {
      "text/plain": [
       "[{'type': 'email',\n",
       "  'coordinates': {'x1': 893.0, 'x0': 138.0, 'y0': 385.0, 'y1': 443.0}},\n",
       " {'coordinates': {'x1': 892.0, 'y0': 460.0, 'x0': 137.0, 'y1': 518.0},\n",
       "  'type': 'password'}]"
      ]
     },
     "execution_count": 37,
     "metadata": {},
     "output_type": "execute_result"
    }
   ],
   "source": [
    "json.loads(response)[\"tool_calls\"][0][\"arguments\"][\"fields\"]"
   ]
  },
  {
   "cell_type": "markdown",
   "metadata": {
    "id": "Uhtahn_jTZKC"
   },
   "source": [
    "### Generate text from text & image(s)\n"
   ]
  },
  {
   "cell_type": "markdown",
   "metadata": {},
   "source": [
    "## Function Call"
   ]
  },
  {
   "cell_type": "code",
   "execution_count": 19,
   "metadata": {
    "tags": []
   },
   "outputs": [
    {
     "ename": "NameError",
     "evalue": "name 'json_unpacked' is not defined",
     "output_type": "error",
     "traceback": [
      "\u001b[0;31m---------------------------------------------------------------------------\u001b[0m",
      "\u001b[0;31mNameError\u001b[0m                                 Traceback (most recent call last)",
      "Cell \u001b[0;32mIn[19], line 40\u001b[0m\n\u001b[1;32m     37\u001b[0m     plt\u001b[38;5;241m.\u001b[39mshow()\n\u001b[1;32m     39\u001b[0m \u001b[38;5;66;03m# Example usage\u001b[39;00m\n\u001b[0;32m---> 40\u001b[0m \u001b[38;5;28;01mfor\u001b[39;00m i \u001b[38;5;129;01min\u001b[39;00m \u001b[38;5;28mrange\u001b[39m(\u001b[38;5;28mlen\u001b[39m(\u001b[43mjson_unpacked\u001b[49m)):\n\u001b[1;32m     41\u001b[0m     \u001b[38;5;28mprint\u001b[39m(\u001b[38;5;124mf\u001b[39m\u001b[38;5;124m\"\u001b[39m\u001b[38;5;124mCordinates of ^^^^^^^^^^^^^^^^^^ \u001b[39m\u001b[38;5;132;01m{\u001b[39;00mjson_unpacked[i][\u001b[38;5;124m'\u001b[39m\u001b[38;5;124mtype\u001b[39m\u001b[38;5;124m'\u001b[39m]\u001b[38;5;132;01m}\u001b[39;00m\u001b[38;5;124m ^^^^^^^^^^^^^^^^^^\u001b[39m\u001b[38;5;124m\"\u001b[39m)\n\u001b[1;32m     42\u001b[0m     \u001b[38;5;28mprint\u001b[39m(\u001b[38;5;124mf\u001b[39m\u001b[38;5;124m\"\u001b[39m\u001b[38;5;124mCordinates of ^^^^^^^^^^^^^^^^^^ \u001b[39m\u001b[38;5;132;01m{\u001b[39;00mjson_unpacked[i][\u001b[38;5;124m'\u001b[39m\u001b[38;5;124mcoordinates\u001b[39m\u001b[38;5;124m'\u001b[39m]\u001b[38;5;132;01m}\u001b[39;00m\u001b[38;5;124m ^^^^^^^^^^^^^^^^^^\u001b[39m\u001b[38;5;124m\"\u001b[39m)\n",
      "\u001b[0;31mNameError\u001b[0m: name 'json_unpacked' is not defined"
     ]
    }
   ],
   "source": [
    "import json\n",
    "import json\n",
    "from PIL import Image as PIL_Image\n",
    "from PIL import ImageDraw as PIL_ImageDraw\n",
    "import matplotlib.pyplot as plt\n",
    "import time\n",
    "\n",
    "def draw_coordinates_on_image_func(image_path, coordinates_dict, name=\"Region\", output_path=\"./image/output_image.jpg\"):\n",
    "    \"\"\"\n",
    "    Draws coordinates onto an image.\n",
    "\n",
    "    Args:\n",
    "        image_path (str): Path to the input image.\n",
    "        coordinates_dict (dict): A dictionary containing coordinates in the format {'x0': ..., 'y0': ..., 'x1': ..., 'y1': ...}\n",
    "        name (str, optional): Name or label to associate with the coordinates. Defaults to \"Region\".\n",
    "        output_path (str, optional): Path to save the modified image. Defaults to \"output_image.jpg\". \n",
    "    \"\"\"\n",
    "    \n",
    "    # Load image\n",
    "    img = PIL_Image.open(image_path)\n",
    "\n",
    "    # Extract coordinates \n",
    "    x0 = coordinates_dict['x0']\n",
    "    y0 = coordinates_dict['y0']\n",
    "    x1 = coordinates_dict['x1']\n",
    "    y1 = coordinates_dict['y1']\n",
    "\n",
    "    # Drawing\n",
    "    draw = PIL_ImageDraw.Draw(img)\n",
    "    draw.rectangle([(x0, y0), (x1, y1)], outline='red', width=5)  \n",
    "    draw.text((x0, y0 - 15), name, fill='red')\n",
    "\n",
    "    # Display the image\n",
    "    plt.figure(figsize=(25, 20))\n",
    "    plt.imshow(img)\n",
    "    plt.axis('on')\n",
    "    plt.show()\n",
    "\n",
    "# Example usage\n",
    "for i in range(len(json_unpacked)):\n",
    "    print(f\"Cordinates of ^^^^^^^^^^^^^^^^^^ {json_unpacked[i]['type']} ^^^^^^^^^^^^^^^^^^\")\n",
    "    print(f\"Cordinates of ^^^^^^^^^^^^^^^^^^ {json_unpacked[i]['coordinates']} ^^^^^^^^^^^^^^^^^^\")\n",
    "    \n",
    "    draw_coordinates_on_image_func(image_path, json_unpacked[i][\"coordinates\"], json_unpacked[i][\"type\"])\n"
   ]
  },
  {
   "cell_type": "code",
   "execution_count": null,
   "metadata": {},
   "outputs": [],
   "source": []
  }
 ],
 "metadata": {
  "colab": {
   "provenance": [],
   "toc_visible": true
  },
  "environment": {
   "kernel": "python3",
   "name": ".m115",
   "type": "gcloud",
   "uri": "gcr.io/deeplearning-platform-release/:m115"
  },
  "kernelspec": {
   "display_name": "Python 3",
   "language": "python",
   "name": "python3"
  },
  "language_info": {
   "codemirror_mode": {
    "name": "ipython",
    "version": 3
   },
   "file_extension": ".py",
   "mimetype": "text/x-python",
   "name": "python",
   "nbconvert_exporter": "python",
   "pygments_lexer": "ipython3",
   "version": "3.10.13"
  }
 },
 "nbformat": 4,
 "nbformat_minor": 4
}
